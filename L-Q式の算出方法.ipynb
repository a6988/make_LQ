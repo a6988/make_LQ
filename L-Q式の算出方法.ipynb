{
 "cells": [
  {
   "cell_type": "markdown",
   "metadata": {},
   "source": [
    "L-Q式の算出方法について"
   ]
  },
  {
   "cell_type": "markdown",
   "metadata": {},
   "source": [
    "$a_n$, $b_n$ : 平常時L-Q式のa及びb \n",
    "\n",
    "$a_r$, $b_r$ : 出水時L-Q式のa及びb\n",
    "\n",
    "$Q_1$, $L_1$ : 切り替え流量($m^3/s$) \n",
    "\n",
    "$L_{sum}$ : 年間流出負荷量(kg/年)\n",
    "\n",
    "$L_{norm}$ : 平常時の年間流出量(kg/年)\n",
    "\n",
    "$L_{rain}$ : 出水時の年間流出量(kg/年)\n",
    "\n",
    "$Q_k$ : 出水時の流出水量($m^3/s$)"
   ]
  },
  {
   "cell_type": "markdown",
   "metadata": {},
   "source": [
    "##### 出水時の年間流出量\n",
    "$L_{rain}$ = $L_{sum}$ - $L_{norm}$"
   ]
  },
  {
   "cell_type": "markdown",
   "metadata": {},
   "source": [
    "#### $a_n$,$b_n$は求まっているので、切り替え流量時の負荷・流量を用いると$a_r$,$b_r$の関係式は以下になる\n",
    "$L_1$ = $a_r \\times {Q_1}^{b_r}$\n",
    "\n",
    "$a_r$ = $\\frac{L_1}{{Q_1}^{b_r}} $"
   ]
  },
  {
   "cell_type": "markdown",
   "metadata": {},
   "source": [
    "#### 出水時の年間流出量をL-Q式で表すと以下のようになる\n",
    "$L_{rain} = \\sum (a_r \\times {Q_k}^{b_r} \\times 3600 ) $ \n",
    "\n",
    "kは全ての出水時流量, 3600は流量が時間単位で整備されていることを前提として、$m^3/s$から$m^3/h$への変換"
   ]
  },
  {
   "cell_type": "markdown",
   "metadata": {},
   "source": [
    "#### $a_r$に代入すると\n",
    "\n",
    "$L_{rain} = \\sum ( \\frac{L_1}{{Q_1}^{b_r}}\\times {Q_k}^{b_r} \\times 3600 ) $ \n",
    "\n",
    "$\\frac{L_{rain}}{3600 \\times L_1} = \\sum  (\\frac{Q_k}{Q_1})^{b_r} $ \n",
    "\n",
    "$\\frac{L_{rain}}{3600 \\times L_1} = (\\frac{Q_1}{Q_1})^{b_r} + (\\frac{Q_2}{Q_1})^{b_r} + \\cdots + (\\frac{Q_n}{Q_1})^{b_r}$\n"
   ]
  },
  {
   "cell_type": "markdown",
   "metadata": {},
   "source": [
    "#### $Q_1 \\cdots Q_n$は切り替え流量以上の各流量でありデータから取得可能。$Q_1$も分かっているので、右辺の各項目を$R_k$とすると、\n",
    "\n",
    "\n",
    "$\\frac{L_{rain}}{3600 \\times L_1} = R_1^{b_r} + R_2^{b_r} + \\cdots + R_n^{b_r}$"
   ]
  },
  {
   "cell_type": "markdown",
   "metadata": {},
   "source": [
    "#### 上記方程式から$b_r$を求めるために、ニュートン法を用いて数値解を算出する。"
   ]
  },
  {
   "cell_type": "markdown",
   "metadata": {},
   "source": [
    "#### $b_r$が算出された後は、$a_r$ = $\\frac{L_1}{{Q_1}^{b_r}} $に${b_r}$を代入して$a_r$を求める"
   ]
  },
  {
   "cell_type": "code",
   "execution_count": null,
   "metadata": {
    "collapsed": true
   },
   "outputs": [],
   "source": []
  }
 ],
 "metadata": {
  "kernelspec": {
   "display_name": "Python 3",
   "language": "python",
   "name": "python3"
  },
  "language_info": {
   "codemirror_mode": {
    "name": "ipython",
    "version": 3
   },
   "file_extension": ".py",
   "mimetype": "text/x-python",
   "name": "python",
   "nbconvert_exporter": "python",
   "pygments_lexer": "ipython3",
   "version": "3.8.3"
  }
 },
 "nbformat": 4,
 "nbformat_minor": 2
}
